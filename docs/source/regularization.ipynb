{
 "cells": [
  {
   "cell_type": "raw",
   "metadata": {
    "raw_mimetype": "text/restructuredtext"
   },
   "source": [
    ".. _SectionRegularizationMode:\n",
    "\n",
    "Regularization Mode\n",
    "==================="
   ]
  },
  {
   "cell_type": "raw",
   "metadata": {
    "raw_mimetype": "text/restructuredtext"
   },
   "source": [
    "This example will explain the basic usage of a regularisation with saenopy.\n",
    "\n",
    "Regularization mode solves the unconstrained problem of measured displacements, which should be fitted by deforming the mesh and thereby generating forces. To avoid spurious forces all over the mesh, a regularization term is used to suppress \"noise\" forces.\n",
    "\n",
    "The input is:\n",
    "    - the material parameters (see :ref:`SectionMaterial`)\n",
    "    - the mesh (nodes and connectivity) (see :ref:`SectionMesh`)\n",
    "    - the measured displacements :math:`U^\\mathrm{measured}_i` for all nodes\n",
    "    \n",
    "The output is:\n",
    "    - the forces :math:`f_i(U)` for all nodes\n",
    "    - the displacements :math:`U_i` for all nodes (should be similar to the measured displacements)\n",
    "   \n",
    "This mode is used to calculate from a measured noisy displacement field, the forces that generated this displacement field.\n",
    "\n",
    "First the basic theoretical background is explained, followed by the code to use it."
   ]
  },
  {
   "cell_type": "markdown",
   "metadata": {},
   "source": [
    "## Theory"
   ]
  },
  {
   "cell_type": "raw",
   "metadata": {
    "raw_mimetype": "text/restructuredtext"
   },
   "source": [
    "The inverse problem, to fit forces for measured displacements is under determined. Therefore, a regularization scheme is needed, to circumvent this problem. The target function :math:`L(U)` is extended with a regularisation term. We use here the Thikonov regularization, :math:`|f_i(U)|^2_A`, the weighted sum over all forces (other regularization schemes can also be used).\n",
    "\n",
    ".. math::\n",
    "    L(U) = | U_i - U_i^\\mathrm{measured}|^2 + |f_i(U)|^2_A\n",
    "    \n",
    "The subscript :math:`A` denotes here a weighted sum over the forces. If :math:`A` would be a constant, forces at every point of the volume would be penalized the same. But we normally expect strong forces at a few nodes, caused by the cell, and small forces at other nodes, caused by noise.\n",
    "\n",
    "To not smooth the strongest forces, a lower weight is assigned to nodes which obtained a high force in the iteration process (Huber, 2004).\n",
    "\n",
    ".. math::\n",
    "    A_{ii}(f_i) = \\begin{cases}\n",
    "      \\alpha, & \\text{if}\\ |f_i| < 1.345 \\cdot \\mathrm{median}(|f|) \\\\\n",
    "      \\alpha \\frac{1.345 \\cdot \\mathrm{median}(|f|)}{|f_i|}, & \\text{otherwise}\n",
    "    \\end{cases} \n",
    "\n",
    "The target function :math:`L(U)` is minimized if :math:`U` fulfills the following condition:\n",
    "\n",
    ".. math::\n",
    "    \\underbrace{(\\mathbf{I} + \\mathbf{K}(U) \\cdot \\mathbf{A} \\cdot \\mathbf{K}(U))_{ij}}_{A_{ij}} \\cdot \\underbrace{\\Delta u_j}_{x_j} = \\underbrace{U_i^\\mathrm{measured} + (\\mathbf{K}(U) \\cdot \\mathbf{A} \\cdot f(U))_i}_{b_i}\n",
    "    \n",
    "This linear equation (of the form :math:`A_{ij}\\cdot x_j = b_i`) is solved using the conjugate gradient method to obtain a value for :math:`\\Delta u_i`. A tiny fraction (`stepper`) of this is applied to the displacement :math:`U_i`: \n",
    "\n",
    ".. math::\n",
    "    U^\\prime_i = U_i + \\mathrm{stepper} \\cdot \\Delta u_i.\n",
    "    \n",
    "With the new displacement :math:`U^\\prime`, the stiffness matrix :math:`K_{ij}(U^\\prime)`, the nodal forces :math:`f_i(U^\\prime)` and the total energy :math:`E(U^\\prime)` are updated.\n",
    "    \n",
    "From these nodal forces the weight matrix :math:`A_{ii}(f_i(U^\\prime))` is updated. And the linear equation is again solved for the new stiffness matrix :math:`K_{ij}(U^\\prime)` and weight matrix :math:`A_{ii}(f_i(U^\\prime))`.\n",
    "\n",
    "This procedure is iterated until the total energy :math:`E` of the system converges. The convergence criterion is:\n",
    "\n",
    ".. math::\n",
    "    \\frac{\\mathrm{std}(\\{E^{t-6}, E^{t-5}, ..., E^{t-1}, E^t\\})}{\\mathrm{mean}(\\{E^{t-6}, E^{t-5}, ..., E^{t-1}, E^t\\})} \\leq \\mathrm{rel\\_conv\\_crit}\n",
    "\n",
    "So when the standard deviation of :math:`E` divided by the mean of :math:`E` for the last 6 iterations is lower than the threshold `rel_conv_crit`."
   ]
  },
  {
   "cell_type": "markdown",
   "metadata": {},
   "source": [
    "## Example"
   ]
  },
  {
   "cell_type": "raw",
   "metadata": {
    "raw_mimetype": "text/restructuredtext"
   },
   "source": [
    "The following code example (the code of all boxed joined in a single file) can be downloaded at `regularization.py <https://raw.githubusercontent.com/rgerum/saenopy/master/docs/regularization.py>`_."
   ]
  },
  {
   "cell_type": "raw",
   "metadata": {
    "raw_mimetype": "text/restructuredtext"
   },
   "source": [
    ".. warning::\n",
    "    This example does not make use of the graphical user interface. It is only recomended to use if you just want to use the API functionality.\n",
    "\n",
    "    Please see :ref:`SectionExampleSingleCell` for using the API compatible with the user interface.\n",
    "\n",
    "\n",
    "First, import the Solver class."
   ]
  },
  {
   "cell_type": "code",
   "execution_count": 1,
   "metadata": {},
   "outputs": [],
   "source": [
    "from saenopy import Solver\n",
    "    \n",
    "# initialize the object\n",
    "M = Solver()"
   ]
  },
  {
   "cell_type": "raw",
   "metadata": {
    "raw_mimetype": "text/restructuredtext"
   },
   "source": [
    "Set the material model (see :ref:`SectionMaterial`):"
   ]
  },
  {
   "cell_type": "code",
   "execution_count": 2,
   "metadata": {},
   "outputs": [],
   "source": [
    "from saenopy.materials import SemiAffineFiberMaterial\n",
    "\n",
    "# provide a material model\n",
    "material = SemiAffineFiberMaterial(1645, 0.0008, 1.0075, 0.033)\n",
    "M.set_material_model(material)"
   ]
  },
  {
   "cell_type": "raw",
   "metadata": {
    "raw_mimetype": "text/restructuredtext"
   },
   "source": [
    "Define the mesh (see :ref:`SectionMesh`)."
   ]
  },
  {
   "cell_type": "code",
   "execution_count": 3,
   "metadata": {},
   "outputs": [],
   "source": [
    "import numpy as np\n",
    "\n",
    "# define the coordinates of the nodes of the mesh\n",
    "# the array has to have the shape N_v x 3\n",
    "R = np.array([[0., 0., 0.],  # 0\n",
    "              [0., 1., 0.],  # 1\n",
    "              [1., 1., 0.],  # 2\n",
    "              [1., 0., 0.],  # 3\n",
    "              [0., 0., 1.],  # 4\n",
    "              [1., 0., 1.],  # 5\n",
    "              [1., 1., 1.],  # 6\n",
    "              [0., 1., 1.]]) # 7\n",
    "\n",
    "# define the tetrahedra of the mesh\n",
    "# the array has to have the shape N_t x 4\n",
    "# every entry is an index referencing a verces in R (indices start with 0)\n",
    "T = np.array([[0, 1, 7, 2],\n",
    "              [0, 2, 5, 3],\n",
    "              [0, 4, 5, 7],\n",
    "              [2, 5, 6, 7],\n",
    "              [0, 7, 5, 2]])"
   ]
  },
  {
   "cell_type": "raw",
   "metadata": {
    "raw_mimetype": "text/restructuredtext"
   },
   "source": [
    "And hand the data over to the Solver object."
   ]
  },
  {
   "cell_type": "code",
   "execution_count": 4,
   "metadata": {},
   "outputs": [],
   "source": [
    "# provide the node data\n",
    "M.set_nodes(R)\n",
    "# and the tetrahedron data\n",
    "M.set_tetrahedra(T)"
   ]
  },
  {
   "cell_type": "raw",
   "metadata": {
    "raw_mimetype": "text/restructuredtext"
   },
   "source": [
    "Now we have to specify which displacements to fit (see :ref:`SectionMeasuredDisplacement`)."
   ]
  },
  {
   "cell_type": "code",
   "execution_count": 5,
   "metadata": {},
   "outputs": [],
   "source": [
    "# the displacements of the nodes which shall be fitted\n",
    "# during the solving\n",
    "U = np.array([[0   , 0, 0],  # 0\n",
    "              [0   , 0, 0],  # 1\n",
    "              [0.01, 0, 0],  # 2\n",
    "              [0.01, 0, 0],  # 3\n",
    "              [0   , 0, 0],  # 4\n",
    "              [0.01, 0, 0],  # 5\n",
    "              [0.01, 0, 0],  # 6\n",
    "              [0   , 0, 0]]) # 7\n",
    "\n",
    "# hand the displacements over to the class instance\n",
    "M.set_target_displacements(U)"
   ]
  },
  {
   "cell_type": "raw",
   "metadata": {
    "raw_mimetype": "text/restructuredtext"
   },
   "source": [
    "Now we can start the regularisation process (see parameters see :py:meth:`~.Solver.solve_regularized`)."
   ]
  },
  {
   "cell_type": "code",
   "execution_count": 6,
   "metadata": {},
   "outputs": [
    {
     "name": "stderr",
     "output_type": "stream",
     "text": [
      "e:\\saenopy\\saenopy\\solver.py:339: NumbaWarning: \u001B[1mCannot cache compiled function \"_get_applied_epsilon\" as it uses dynamic globals (such as ctypes pointers and large global arrays)\u001B[0m\n",
      "  @staticmethod\n"
     ]
    }
   ],
   "source": [
    "# call the regularisation\n",
    "M.solve_regularized(step_size=0.1, alpha=0.001);"
   ]
  },
  {
   "cell_type": "markdown",
   "metadata": {},
   "source": []
  }
 ],
 "metadata": {
  "celltoolbar": "Raw Cell Format",
  "kernelspec": {
   "display_name": "Python 3",
   "language": "python",
   "name": "python3"
  },
  "language_info": {
   "codemirror_mode": {
    "name": "ipython",
    "version": 3
   },
   "file_extension": ".py",
   "mimetype": "text/x-python",
   "name": "python",
   "nbconvert_exporter": "python",
   "pygments_lexer": "ipython3",
   "version": "3.6.4"
  },
  "pycharm": {
   "stem_cell": {
    "cell_type": "raw",
    "metadata": {
     "collapsed": false
    },
    "source": []
   }
  }
 },
 "nbformat": 4,
 "nbformat_minor": 1
}
