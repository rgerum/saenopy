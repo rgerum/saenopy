{
 "cells": [
  {
   "cell_type": "raw",
   "metadata": {
    "raw_mimetype": "text/restructuredtext"
   },
   "source": [
    ".. _SectionBoundaryConditionMode:\n",
    "\n",
    "Boundary Condition Mode\n",
    "======================="
   ]
  },
  {
   "cell_type": "raw",
   "metadata": {
    "raw_mimetype": "text/restructuredtext"
   },
   "source": [
    "This example will explain the basic usage of the boundary condition mode with saenopy.\n",
    "\n",
    "This mode solves a boundary condition situation, where the displacement (Dirichlet conditon, *fixed* nodes) or the force (von Neumann condition, *free* nodes) on each node is defined.\n",
    "\n",
    "In other words, the user can provide target displacements for some nodes (e.g. the borders of the mesh with 0 displacement) and target forces for all other nodes (e.g. nodes with 0 force in the bulk of the material).\n",
    "\n",
    "The input is:\n",
    "    - the material parameters (see :ref:`SectionMaterial`)\n",
    "    - the mesh (nodes and connectivity) (see :ref:`SectionMesh`)\n",
    "    - the displacements :math:`U_i` for fixed nodes\n",
    "    - the forces :math:`f_i` for free nodes\n",
    "    \n",
    "The output is:\n",
    "    - the forces :math:`f_i` for fixed nodes\n",
    "    - the displacements :math:`U_i` for free nodes\n",
    "\n",
    "First the basic theoretical background is explained, followed by the code to use it."
   ]
  },
  {
   "cell_type": "markdown",
   "metadata": {},
   "source": [
    "## Theory"
   ]
  },
  {
   "cell_type": "raw",
   "metadata": {
    "raw_mimetype": "text/restructuredtext"
   },
   "source": [
    "Due to the high non-linearity of the material, the boundary condition problem has to be solved iteratively.\n",
    "\n",
    "First the stiffness matrix :math:`K_{ij}(U)`, the nodal forces :math:`f_i(U)` and the total energy :math:`E(U)` are calculated for all nodes (indices :math:`i`, :math:`j`) for the current displacements :math:`U`.\n",
    "\n",
    ".. math::\n",
    "    K_{ij}(U) &= \\frac{\\partial E}{\\partial u_i\\partial u_j}\\\\\n",
    "    f_{i}(U) &= \\frac{\\partial E}{\\partial u_i}\n",
    "\n",
    "Then the following linear equation (:math:`A_{ij}\\cdot x_j = b_i`) is solved with a constant displacement :math:`U`, for an infinitessimal displacement shift :math:`\\Delta u`.\n",
    "\n",
    ".. math::\n",
    "    \\underbrace{K_{ij}(U)}_{A_{ij}} \\cdot \\underbrace{\\Delta u_j}_{x_j} = \\underbrace{f_i(U) - f^\\mathrm{ext}_i}_{b_i}\n",
    "    \n",
    "Index :math:`i` runs over all free nodes, :math:`j` over all nodes.   \n",
    "Where :math:`K_{ij}` is the stiffness matrix, :math:`\\Delta u_i` an infinitessimal displacement, :math:`f_i` the force on the node :math:`i` and :math:`f^\\mathrm{ext}_i` the external force on the node :math:`i` (boundary condition).\n",
    "\n",
    "This equation is solved using the conjugate gradient method to obtain a value for :math:`\\Delta u_i`. A tiny fraction ( `stepper`) of this is applied to the displacement :math:`U_i`:\n",
    "\n",
    ".. math::\n",
    "     U^\\prime_i = U_i + \\mathrm{stepper} \\cdot \\Delta u_i.\n",
    "\n",
    "With the new displacement :math:`U^\\prime`, the stiffness matrix :math:`K_{ij}(U^\\prime)`, the nodal forces :math:`f_i(U^\\prime)`, and the total energy :math:`E(U^\\prime)` are updated.\n",
    "\n",
    "This procedure is iterated until the total energy :math:`E` of the system converges. The convergence criterion is:\n",
    "\n",
    ".. math::\n",
    "    \\frac{\\mathrm{std}(\\{E^{t-6}, E^{t-5}, ..., E^{t-1}, E^t\\})}{\\mathrm{mean}(\\{E^{t-6}, E^{t-5}, ..., E^{t-1}, E^t\\})} \\leq \\mathrm{rel\\_conv\\_crit}\n",
    "\n",
    "So when the standard deviation of :math:`E` divided by the mean of :math:`E` for the last 6 iterations is lower than the threshold `rel_conv_crit`."
   ]
  },
  {
   "cell_type": "markdown",
   "metadata": {},
   "source": [
    "## Example"
   ]
  },
  {
   "cell_type": "raw",
   "metadata": {
    "raw_mimetype": "text/restructuredtext"
   },
   "source": [
    "The following code example (the code of all boxed joined in a single file) can be downloaded at `boundarycondition.py <https://raw.githubusercontent.com/rgerum/saenopy/master/docs/boundarycondition.py>`_."
   ]
  },
  {
   "cell_type": "markdown",
   "metadata": {
    "raw_mimetype": "text/restructuredtext"
   },
   "source": [
    "First, import the Solver class. This is the central class of saenopy."
   ]
  },
  {
   "cell_type": "code",
   "execution_count": 1,
   "metadata": {},
   "outputs": [],
   "source": [
    "from saenopy import Solver\n",
    "import saenopy\n",
    "# initialize the object\n",
    "M = Solver()"
   ]
  },
  {
   "cell_type": "raw",
   "metadata": {
    "raw_mimetype": "text/restructuredtext"
   },
   "source": [
    "Set the material model (see :ref:`SectionMaterial`):"
   ]
  },
  {
   "cell_type": "code",
   "execution_count": 2,
   "metadata": {},
   "outputs": [],
   "source": [
    "from saenopy.materials import SemiAffineFiberMaterial\n",
    "\n",
    "# provide a material model\n",
    "material = SemiAffineFiberMaterial(1645, 0.0008, 1.0075, 0.033)\n",
    "M.setMaterialModel(material)"
   ]
  },
  {
   "cell_type": "raw",
   "metadata": {
    "raw_mimetype": "text/restructuredtext"
   },
   "source": [
    "Define the mesh (see :ref:`SectionMesh`)."
   ]
  },
  {
   "cell_type": "code",
   "execution_count": 3,
   "metadata": {},
   "outputs": [],
   "source": [
    "import numpy as np\n",
    "\n",
    "# define the coordinates of the nodes of the mesh\n",
    "# the array has to have the shape N_n x 3\n",
    "R = np.array([[0., 0., 0.],  # 0\n",
    "              [0., 1., 0.],  # 1\n",
    "              [1., 1., 0.],  # 2\n",
    "              [1., 0., 0.],  # 3\n",
    "              [0., 0., 1.],  # 4\n",
    "              [0., 1., 1.],  # 5\n",
    "              [1., 1., 1.],  # 6\n",
    "              [1., 0., 1.]]) # 7\n",
    "\n",
    "# define the concetivity of the mesh (only tetrahedra are allowed)\n",
    "# the array has to have the shape N_t x 4\n",
    "# every entry is an index referencing a node in R (indices start with 0)\n",
    "T = np.array([[0, 1, 3, 5],\n",
    "              [1, 2, 3, 5],\n",
    "              [0, 5, 3, 4],\n",
    "              [4, 5, 3, 7],\n",
    "              [5, 2, 3, 6],\n",
    "              [3, 5, 6, 7]])\n",
    "\n",
    "# provide the node data\n",
    "M.setNodes(R)\n",
    "# the tetrahedron data\n",
    "M.setTetrahedra(T)"
   ]
  },
  {
   "cell_type": "raw",
   "metadata": {
    "raw_mimetype": "text/restructuredtext"
   },
   "source": [
    "And define the boundary conditions (see :ref:`SectionBoundaryConditions`)."
   ]
  },
  {
   "cell_type": "code",
   "execution_count": 4,
   "metadata": {},
   "outputs": [],
   "source": [
    "# the displacement boundary conditions of the nodes\n",
    "# if a displacement boundary condition is given, the node will be fixed\n",
    "U = np.array([[  0.  ,   0.  ,   0.  ],  # 0\n",
    "              [  0.  ,   0.  ,   0.  ],  # 1\n",
    "              [np.nan, np.nan, np.nan],  # 2\n",
    "              [np.nan, np.nan, np.nan],  # 3\n",
    "              [  0.  ,   0.  ,   0.  ],  # 4\n",
    "              [  0.  ,   0.  ,   0.  ],  # 5\n",
    "              [np.nan, np.nan, np.nan],  # 6\n",
    "              [np.nan, np.nan, np.nan]]) # 7\n",
    "\n",
    "# the force boundary conditions of the nodes\n",
    "# if a target force boundary condition is given, the node will be free\n",
    "# this is the force that the material applies after solving onto the nodes\n",
    "# therefore for a pull to the right (positive x-direction) we have to provide\n",
    "# a target force to the left (negative x-direction)\n",
    "F_ext = np.array([[np.nan, np.nan, np.nan],  # 0\n",
    "                  [np.nan, np.nan, np.nan],  # 1\n",
    "                  [-2.5  ,  0.   ,  0.   ],  # 2\n",
    "                  [-2.5  ,  0.   ,  0.   ],  # 3\n",
    "                  [np.nan, np.nan, np.nan],  # 4\n",
    "                  [np.nan, np.nan, np.nan],  # 5\n",
    "                  [-2.5  ,  0.   ,  0.   ],  # 6\n",
    "                  [-2.5  ,  0.   ,  0.   ]]) # 7\n",
    "\n",
    "# and the boundary condition\n",
    "M.setBoundaryCondition(U, F_ext)"
   ]
  },
  {
   "cell_type": "raw",
   "metadata": {
    "raw_mimetype": "text/restructuredtext"
   },
   "source": [
    "After defining all input parameters, we can start with the solving process (for parameters see :py:meth:`~.Solver.solve_boundarycondition`)."
   ]
  },
  {
   "cell_type": "code",
   "execution_count": 5,
   "metadata": {},
   "outputs": [
    {
     "name": "stderr",
     "output_type": "stream",
     "text": [
      ""
     ]
    }
   ],
   "source": [
    "# relax the mesh and move the \"varible\" nodes\n",
    "M.solve_boundarycondition();"
   ]
  },
  {
   "cell_type": "markdown",
   "metadata": {},
   "source": [
    "We can now view the result with the integrated mesh viewer. The nodes (yellow points) are connected by tetrahedra (yellow lines). The displacements (green vectors) cause the reaction forces (red vectors)."
   ]
  },
  {
   "cell_type": "code",
   "execution_count": 6,
   "metadata": {},
   "outputs": [
    {
     "data": {
      "text/html": [
       "<h1></h1><iframe srcdoc='\n",
       "    <!--<div id=\"info\"><a href=\"http://threejs.org\" target=\"_blank\" rel=\"noopener\">three.js</a> - dashed lines example</div>-->\n",
       "    <div id=\"container\"></div>\n",
       "    \n",
       "    <script src=\"https://threejs.org/build/three.js\"></script>\n",
       "    \n",
       "    <script src=\"https://threejs.org/examples/js/WebGL.js\"></script>\n",
       "    <script src=\"https://threejs.org/examples/js/libs/stats.min.js\"></script>\n",
       "    <script src=\"https://threejs.org/examples/js/libs/dat.gui.min.js\"></script>\n",
       "    \n",
       "    <script src=\"https://threejs.org/examples/js/controls/OrbitControls.js\"></script>\n",
       "    \n",
       "    <style>\n",
       "    \n",
       "    .dg li {\n",
       "        background: #f7f7f7 !important;\n",
       "    }\n",
       "    .dg {\n",
       "       color: #111;\n",
       "       text-shadow: none;\n",
       "    }\n",
       "    .dg.main .close-button {\n",
       "        background: none;\n",
       "    }\n",
       "    .dg.main .close-button:hover {\n",
       "       background: none;\n",
       "    }\n",
       "    .dg .cr.boolean {\n",
       "        border-left: 1px solid #cfcfcf;\n",
       "    }\n",
       "    .dg .cr.number {\n",
       "        border-left: 1px solid #cfcfcf;\n",
       "    }\n",
       "    .dg .c input[type=text] {\n",
       "        background: #fffefe00;\n",
       "        outline: none;\n",
       "        color: #111 !important;\n",
       "    }\n",
       "    .dg .c input[type=text]:hover {\n",
       "        background: #fffefe00;\n",
       "        outline: none;\n",
       "        color: #111 !important;\n",
       "    }\n",
       "    .dg .c .slider {\n",
       "        background: #d6d6d6;\n",
       "        cursor: ew-resize;\n",
       "        border-radius: 5px;\n",
       "    }\n",
       "    .dg .c .slider:hover {\n",
       "        background: #d6d6d6;\n",
       "    }\n",
       "    .dg .c .slider-fg {\n",
       "        background: #747575;\n",
       "        border-radius: 5px;\n",
       "    }\n",
       "    .dg .c .slider:hover .slider-fg {\n",
       "       background: #42a5f5;\n",
       "    }\n",
       "    .dg li:not(.folder) {\n",
       "        border: 1px solid #cfcfcf;\n",
       "        border-radius: 2px;\n",
       "    }\n",
       "    \n",
       "    </style>\n",
       "    \n",
       "    <script>\n",
       "    \n",
       "    function NewArray(type, base64) {\n",
       "        var binary_string =  window.atob(base64);\n",
       "        var len = binary_string.length;\n",
       "        var bytes = new Uint8Array( len );\n",
       "        for (var i = 0; i < len; i++)        {\n",
       "            bytes[i] = binary_string.charCodeAt(i);\n",
       "        }\n",
       "        return new type(bytes.buffer);\n",
       "    }\n",
       "    \n",
       "        //if ( WEBGL.isWebGLAvailable() === false ) {\n",
       "        //    document.body.appendChild( WEBGL.getWebGLErrorMessage() );\n",
       "        //}\n",
       "    \n",
       "        var renderer, scene, camera, stats, controls;\n",
       "        var objects = [];\n",
       "        var gui;\n",
       "    \n",
       "        factor_mesh = 50.000000;\n",
       "        factor_force = 0.100000;\n",
       "    \n",
       "        var WIDTH = window.innerWidth, HEIGHT = window.innerHeight;\n",
       "    \n",
       "        init();\n",
       "        animate();\n",
       "    \n",
       "        function init() {\n",
       "    \n",
       "            camera = new THREE.PerspectiveCamera( 60, WIDTH / HEIGHT, 1, 200 );\n",
       "            camera.position.z = 150;\n",
       "    \n",
       "            scene = new THREE.Scene();\n",
       "            scene.background = new THREE.Color( 0xFFFFFF);//0x111111 );\n",
       "            scene.fog = new THREE.Fog( 0xFFFFFF, 50, 200);\n",
       "    \n",
       "            renderer = new THREE.WebGLRenderer( { antialias: true } );\n",
       "            renderer.setPixelRatio( window.devicePixelRatio );\n",
       "            renderer.setSize( WIDTH, HEIGHT );\n",
       "    \n",
       "            var container = document.getElementById( \"container\" );\n",
       "            container.appendChild( renderer.domElement );\n",
       "    \n",
       "            //stats = new Stats();\n",
       "            //container.appendChild( stats.dom );\n",
       "    \n",
       "            //\n",
       "            addMesh(NewArray(Float64Array, \"AAAAAAAA4L8AAAAAAADgvwAAAAAAAOC/AAAAAAAA4L8AAAAAAADgPwAAAAAAAOC/AAAAAAAA4D8AAAAAAADgPwAAAAAAAOC/AAAAAAAA4D8AAAAAAADgvwAAAAAAAOC/AAAAAAAA4L8AAAAAAADgvwAAAAAAAOA/AAAAAAAA4L8AAAAAAADgPwAAAAAAAOA/AAAAAAAA4D8AAAAAAADgPwAAAAAAAOA/AAAAAAAA4D8AAAAAAADgvwAAAAAAAOA/\"), NewArray(Int32Array, \"BQAAAAcAAAADAAAABwAAAAMAAAAGAAAAAQAAAAIAAAABAAAABQAAAAAAAAAEAAAABQAAAAYAAAACAAAABgAAAAYAAAAHAAAABAAAAAcAAAAAAAAAAQAAAAEAAAADAAAAAAAAAAMAAAAAAAAABQAAAAMAAAAFAAAAAwAAAAQAAAACAAAAAwAAAAIAAAAFAAAABAAAAAUAAAA=\"), NewArray(Float64Array, \"ZAq4u3SzA0BrFIyBB+3jPzeXtq8T+OM/uqNEZx5DA0Cmrei/MITiv4AGEPNfNPA/UAg1lLQsA8DOs0PhXJaAv0CDP6ClWWo/aIlyF+UdA8BsTc97FYJ8P6AWbKun73w/UskLSO5CA0CGXOT9iU/wP1WwwysQkOK/dsX7Jn9rAkD/l11ZzALxvxAgUJL05vC/WZilr78tA8CQrsVbzChnv4BAAT1ry2S/1RK3NqcsA8DAHEY4CixuP2COMsvzkYC/\"), NewArray(Float64Array, \"AAAAAAAAAAAAAAAAAAAAAAAAAAAAAAAAAAAAAAAAAAAAAAAAAAAAAAAAAAAAAAAAj+HZPXtMpD8+SXpgXSSiv/oWoUCTz3s/PouRuokakz+xMnKGcqd6PwLi+svdHXs/AAAAAAAAAAAAAAAAAAAAAAAAAAAAAAAAAAAAAAAAAAAAAAAAAAAAAAAAAAAAAAAAAK0jXm/koD+zyjUbnPuJv+GsycXOQYq/kTQDdGNNpD8VqF8xQ997PyPkla9eH6K/\"))\n",
       "            window.addEventListener( \"resize\", onWindowResize, false );\n",
       "    \n",
       "            controls = new THREE.OrbitControls( camera, renderer.domElement );\n",
       "            //controls.minDistance = 10;\n",
       "            //controls.maxDistance = 500;\n",
       "            initGui();\n",
       "    \n",
       "        }\n",
       "    \n",
       "    \n",
       "        function addMesh(points1, lines1, F1, U1) {\n",
       "            points = points1;\n",
       "            lines = lines1;\n",
       "            F = F1;\n",
       "            U = U1;\n",
       "    \n",
       "            for(var i=0; i < points.length; i++) {\n",
       "                points[i] *= factor_mesh;\n",
       "                U[i] *= factor_mesh;\n",
       "            }\n",
       "    \n",
       "            //var h = size * 0.5;\n",
       "    \n",
       "            var geometry = new THREE.BufferGeometry();\n",
       "            var position = [];\n",
       "            //console.log(points.length, tets.length);\n",
       "        \n",
       "            for(var t=0; t < lines1.length/2; t++) {\n",
       "                        var t1 = lines1[t*2+0];\n",
       "                        var t2 = lines1[t*2+1];\n",
       "                        for(var x=0; x < 3; x++)\n",
       "                            position.push(points[t1*3+x]);\n",
       "                        for(var x=0; x < 3; x++)\n",
       "                            position.push(points[t2*3+x]);\n",
       "                //console.log(t);\n",
       "            }\n",
       "            console.log(\"ready\");\n",
       "    \n",
       "            geometry.addAttribute( \"position\", new THREE.Float32BufferAttribute( position, 3 ) );\n",
       "    \n",
       "            //var geometryCube = cube( 50 );\n",
       "    \n",
       "            //var lineSegments = new THREE.LineSegments( geometry, new THREE.LineDashedMaterial( { color: 0xffaa00, dashSize: 3, gapSize: 1 } ) );\n",
       "            mesh_lines = new THREE.LineSegments( geometry, new THREE.LineBasicMaterial( { color: 0xffaa00, linewidth: 0.5, transparent: true, opacity: 0.5} ) );\n",
       "            mesh_lines.computeLineDistances();\n",
       "    \n",
       "            objects.push( mesh_lines );\n",
       "            scene.add( mesh_lines );\n",
       "    \n",
       "            var geometry = new THREE.BufferGeometry();\n",
       "            var position = [];\n",
       "            var force_tips = [];\n",
       "    \n",
       "            for(var i=0; i < U.length/3; i++) {\n",
       "                f_abs = Math.sqrt(F[i*3+0]**2 + F[i*3+1]**2 + F[i*3+2]**2);\n",
       "                factor = factor_force*factor_mesh;//1/f_abs/3000 * f_abs * 100000;\n",
       "                for(var x=0; x < 3; x++)\n",
       "                    position.push((points[i*3+x]));\n",
       "                for(var x=0; x < 3; x++) {\n",
       "                    position.push(points[i * 3 + x] + F[i * 3 + x] * factor);\n",
       "                    force_tips.push(points[i * 3 + x] + F[i * 3 + x] * factor);\n",
       "                }\n",
       "            }\n",
       "    \n",
       "            geometry.addAttribute( \"position\", new THREE.Float32BufferAttribute( position, 3 ) );\n",
       "    \n",
       "            force_mat = new THREE.LineBasicMaterial( { color: 0xaa0000, linewidth: 3,} );\n",
       "            force_lines = new THREE.LineSegments( geometry, force_mat );\n",
       "            force_lines.computeLineDistances();\n",
       "    \n",
       "            objects.push( force_lines );\n",
       "            scene.add( force_lines );\n",
       "    \n",
       "            var sprite = new THREE.TextureLoader().load( \"https://threejs.org/examples/textures/sprites/disc.png\" );\n",
       "    \n",
       "            var geometry = new THREE.BufferGeometry();\n",
       "            geometry.addAttribute( \"position\", new THREE.Float32BufferAttribute( points, 3 ) );\n",
       "            mesh_points = new THREE.Points( geometry, new THREE.PointsMaterial( { size: 8, sizeAttenuation: false, color: 0xffaa00, map: sprite, alphaTest: 0.5, transparent: true } ) );\n",
       "            scene.add( mesh_points );\n",
       "    \n",
       "            var geometry = new THREE.BufferGeometry();\n",
       "            geometry.addAttribute( \"position\", new THREE.Float32BufferAttribute( force_tips, 3 ) );\n",
       "            force_points = new THREE.Points( geometry, new THREE.PointsMaterial( { size: 10, sizeAttenuation: false, color: 0xaa0000, map: sprite, alphaTest: 0.5, transparent: true } ) );\n",
       "            scene.add( force_points );\n",
       "    \n",
       "            // Displacements\n",
       "    \n",
       "            var geometry = new THREE.BufferGeometry();\n",
       "            var position = [];\n",
       "            var displacement_tips = [];\n",
       "    \n",
       "            for(var i=0; i < U.length/3; i++) {\n",
       "                for(var x=0; x < 3; x++)\n",
       "                    position.push((points[i*3+x]));\n",
       "                for(var x=0; x < 3; x++) {\n",
       "                    position.push(points[i * 3 + x] + U[i * 3 + x]);\n",
       "                    displacement_tips.push(points[i * 3 + x] + U[i * 3 + x]);\n",
       "                }\n",
       "            }\n",
       "    \n",
       "            geometry.addAttribute( \"position\", new THREE.Float32BufferAttribute( position, 3 ) );\n",
       "            displacement_mat = new THREE.LineBasicMaterial( { color: 0x00aa00, linewidth: 2,} );\n",
       "            displacement_lines = new THREE.LineSegments( geometry, displacement_mat );\n",
       "            displacement_lines.computeLineDistances();\n",
       "    \n",
       "            objects.push( displacement_lines );\n",
       "            scene.add( displacement_lines );\n",
       "    \n",
       "            var geometry = new THREE.BufferGeometry();\n",
       "            geometry.addAttribute( \"position\", new THREE.Float32BufferAttribute( displacement_tips, 3 ) );\n",
       "            displacement_points = new THREE.Points( geometry, new THREE.PointsMaterial( { size: 10, sizeAttenuation: false, color: 0x00aa00, map: sprite, alphaTest: 0.5, transparent: true } ) );\n",
       "            scene.add( displacement_points );\n",
       "        }\n",
       "    \n",
       "        function onWindowResize() {\n",
       "            camera.aspect = window.innerWidth / window.innerHeight;\n",
       "            camera.updateProjectionMatrix();\n",
       "            renderer.setSize( window.innerWidth, window.innerHeight );\n",
       "        }\n",
       "    \n",
       "        function animate() {\n",
       "            requestAnimationFrame( animate );\n",
       "    \n",
       "            render();\n",
       "            renderer.render( scene, camera );\n",
       "            //stats.update();\n",
       "    \n",
       "        }\n",
       "    \n",
       "        function render() {\n",
       "    \n",
       "            var time = Date.now() * 0.001;\n",
       "    \n",
       "            scene.traverse( function ( object ) {\n",
       "    \n",
       "                //if ( object.isLine ) {\n",
       "    \n",
       "                    //object.rotation.y = 0.25 * time;\n",
       "                    //object.rotation.y = 0.25 * time;\n",
       "    \n",
       "                //}\n",
       "    \n",
       "            } );\n",
       "    \n",
       "            renderer.render( scene, camera );\n",
       "    \n",
       "        }\n",
       "    \n",
       "        function initGui() {\n",
       "            gui = new dat.GUI();\n",
       "            var param = {\n",
       "                \"mesh\": true,\n",
       "                \"forces\": true,\n",
       "                \"force scale\": 1,\n",
       "                \"displacements\": true,\n",
       "                \"view_range\" : 200,\n",
       "            };\n",
       "            gui.add( param, \"mesh\" ).onChange( function ( val ) {\n",
       "                mesh_lines.visible = val;\n",
       "                mesh_points.visible = val;\n",
       "            } );\n",
       "            gui.add( param, \"forces\" ).onChange( function ( val ) {\n",
       "                force_lines.visible = val;\n",
       "                force_points.visible = val;\n",
       "            } );\n",
       "    \n",
       "            gui.add( param, \"force scale\", 1, 8, 0.1 ).onChange( function ( val ) {\n",
       "                var position = [];\n",
       "                var force_tips = [];\n",
       "    \n",
       "                for(var i=0; i < U.length/3; i++) {\n",
       "                    f_abs = Math.sqrt(F[i * 3 + 0] ** 2 + F[i * 3 + 1] ** 2 + F[i * 3 + 2] ** 2);\n",
       "                    factor = factor_force * factor_mesh * val;//1/f_abs/3000 * f_abs * 100000;\n",
       "                    for (var x = 0; x < 3; x++)\n",
       "                        position.push((points[i * 3 + x]));\n",
       "                    for (var x = 0; x < 3; x++) {\n",
       "                        position.push(points[i * 3 + x] + F[i * 3 + x] * factor);\n",
       "                        force_tips.push(points[i * 3 + x] + F[i * 3 + x] * factor);\n",
       "                    }\n",
       "                }\n",
       "                force_lines.geometry.addAttribute( \"position\", new THREE.Float32BufferAttribute( position, 3 ) );\n",
       "                force_points.geometry.addAttribute( \"position\", new THREE.Float32BufferAttribute( force_tips, 3 ) );\n",
       "            } );\n",
       "    \n",
       "            gui.add( param, \"displacements\" ).onChange( function ( val ) {\n",
       "                displacement_lines.visible = val;\n",
       "                displacement_points.visible = val;\n",
       "            } );\n",
       "    \n",
       "            gui.add( param, \"view_range\", 10, 300, 1 ).onChange( function ( val ) {\n",
       "                scene.fog.far = val;\n",
       "            } );\n",
       "        }\n",
       "    \n",
       "    </script>\n",
       "    ' scrolling=no style='border:none; width: 100%; height: 600px'></iframe>"
      ],
      "text/plain": [
       "<IPython.core.display.HTML object>"
      ]
     },
     "metadata": {},
     "output_type": "display_data"
    }
   ],
   "source": [
    "# visualize the meshes\n",
    "M.viewMesh(50, 0.1)"
   ]
  },
  {
   "cell_type": "markdown",
   "metadata": {},
   "source": []
  }
 ],
 "metadata": {
  "celltoolbar": "Raw Cell Format",
  "kernelspec": {
   "display_name": "Python 3",
   "language": "python",
   "name": "python3"
  },
  "language_info": {
   "codemirror_mode": {
    "name": "ipython",
    "version": 3
   },
   "file_extension": ".py",
   "mimetype": "text/x-python",
   "name": "python",
   "nbconvert_exporter": "python",
   "pygments_lexer": "ipython3",
   "version": "3.6.4"
  },
  "pycharm": {
   "stem_cell": {
    "cell_type": "raw",
    "metadata": {
     "collapsed": false
    },
    "source": []
   }
  }
 },
 "nbformat": 4,
 "nbformat_minor": 1
}
